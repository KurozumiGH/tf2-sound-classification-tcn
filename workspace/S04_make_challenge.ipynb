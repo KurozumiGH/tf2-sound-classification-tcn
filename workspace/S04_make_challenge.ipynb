{
 "cells": [
  {
   "cell_type": "markdown",
   "id": "heard-castle",
   "metadata": {},
   "source": [
    "# チャレンジ用MIDIデータの作成\n",
    "\n",
    "ベロシティをランダムにして、「L:R = 70:30」の割合でMODO DRUM用のmidiデータを作成する。"
   ]
  },
  {
   "cell_type": "code",
   "execution_count": 1,
   "id": "excellent-ghana",
   "metadata": {},
   "outputs": [],
   "source": [
    "import numpy as np\n",
    "import pretty_midi as midi"
   ]
  },
  {
   "cell_type": "code",
   "execution_count": 2,
   "id": "dirty-consultation",
   "metadata": {},
   "outputs": [
    {
     "name": "stdout",
     "output_type": "stream",
     "text": [
      "importing Jupyter notebook from functions.ipynb\n"
     ]
    }
   ],
   "source": [
    "import import_ipynb\n",
    "import functions as myfunc\n",
    "\n",
    "myfunc.setup_seed(123)"
   ]
  },
  {
   "cell_type": "code",
   "execution_count": 3,
   "id": "norwegian-pantyhose",
   "metadata": {},
   "outputs": [],
   "source": [
    "def make_notes(l_notes, r_notes, interval=2.0, duration=0.125):\n",
    "    total_notes = l_notes + r_notes\n",
    "\n",
    "    # ピッチデータ\n",
    "    SNARE_L, SNARE_R = 38, 62\n",
    "    labels = np.append(np.zeros(l_notes), np.ones(r_notes))  # 0/1のデータ\n",
    "    labels = np.random.permutation(labels).astype(np.int32)  # シャッフル\n",
    "    pitches = map(lambda x: SNARE_L if x == 0 else SNARE_R, labels)  # 0/1を音階に変換\n",
    "\n",
    "    # ベロシティ\n",
    "    velocities = np.random.randint(40, 128, total_notes)\n",
    "\n",
    "    # Note On/Offタイミング（秒）\n",
    "    points = np.arange(0, total_notes)\n",
    "    notes_on = map(lambda x: x * interval, points)\n",
    "    notes_off = map(lambda x: x * interval + duration, points)\n",
    "\n",
    "    # Velocity, Pitch, Note On, Note Off のデータを組み合わせる\n",
    "    notes = zip(velocities, pitches, notes_on, notes_off)\n",
    "    return notes, labels\n",
    "\n",
    "\n",
    "def save_midi(filename, notes):\n",
    "    # ノート追加\n",
    "    inst = midi.Instrument(program=0)\n",
    "    for i, (vel, pitch, on, off) in enumerate(notes):\n",
    "        note = midi.Note(velocity=vel, pitch=pitch, start=on, end=off)\n",
    "        inst.notes.append(note)\n",
    "\n",
    "    # MIDIファイルの保存\n",
    "    data = midi.PrettyMIDI()\n",
    "    data.instruments.append(inst)\n",
    "    data.write(filename)\n",
    "    print(f\"File:{filename}, Notes:{i+1}\")"
   ]
  },
  {
   "cell_type": "code",
   "execution_count": 4,
   "id": "concerned-customer",
   "metadata": {},
   "outputs": [
    {
     "name": "stdout",
     "output_type": "stream",
     "text": [
      "File:./data/challenge.mid, Notes:100\n",
      "True labels:0110000010001000100101000110000100111100010001010000000100100100000100000000011000000101100010101010\n"
     ]
    }
   ],
   "source": [
    "# MIDIファイル作成\n",
    "notes, labels = make_notes(70, 30)  # Snare L:R = 70:30\n",
    "save_midi(\"./data/challenge.mid\", notes)\n",
    "\n",
    "# 正解ラベルをファイルに出力\n",
    "line = \"\".join(map(str, labels))  # 1行の文字列に変換\n",
    "myfunc.writelines(\"./data/challenge_true_labels.txt\", [line])\n",
    "\n",
    "# 正解ラベルの表示\n",
    "print(f\"True labels:{line}\")"
   ]
  }
 ],
 "metadata": {
  "kernelspec": {
   "display_name": "Python 3",
   "language": "python",
   "name": "python3"
  },
  "language_info": {
   "codemirror_mode": {
    "name": "ipython",
    "version": 3
   },
   "file_extension": ".py",
   "mimetype": "text/x-python",
   "name": "python",
   "nbconvert_exporter": "python",
   "pygments_lexer": "ipython3",
   "version": "3.6.9"
  }
 },
 "nbformat": 4,
 "nbformat_minor": 5
}
