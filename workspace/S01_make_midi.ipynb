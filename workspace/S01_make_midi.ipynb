{
 "cells": [
  {
   "cell_type": "markdown",
   "id": "hourly-cleaner",
   "metadata": {},
   "source": [
    "# トレーニング用MIDIデータの作成"
   ]
  },
  {
   "cell_type": "code",
   "execution_count": 1,
   "id": "tropical-strike",
   "metadata": {},
   "outputs": [],
   "source": [
    "import numpy as np\n",
    "import pretty_midi as midi"
   ]
  },
  {
   "cell_type": "code",
   "execution_count": 2,
   "id": "supposed-isaac",
   "metadata": {},
   "outputs": [],
   "source": [
    "def create_midi(filename, velocities, pitch, strokes=6, timing=2.0, duration=0.125):\n",
    "    \"\"\"\n",
    "    MIDIファイルを作成する\n",
    "    --------------------------------\n",
    "    filename: ファイル名\n",
    "    velocities: ベロシティのバリエーション\n",
    "    pitch: ピッチ\n",
    "    strokes: 同じベロシティで何回打鍵するか\n",
    "    timing: ノート間隔（秒）\n",
    "    duration: 音符の長さ（秒）\n",
    "    \"\"\"\n",
    "    # ノート追加\n",
    "    inst = midi.Instrument(program=0)\n",
    "    pos = 0\n",
    "    for vel in velocities:\n",
    "        for _ in range(strokes):\n",
    "            note_on_ms = timing * pos\n",
    "            note_off_ms = note_on_ms + duration\n",
    "            note = midi.Note(\n",
    "                velocity=vel, pitch=pitch, start=note_on_ms, end=note_off_ms\n",
    "            )\n",
    "            inst.notes.append(note)\n",
    "            pos += 1\n",
    "\n",
    "    # MIDIファイルの保存\n",
    "    data = midi.PrettyMIDI()\n",
    "    data.instruments.append(inst)\n",
    "    data.write(filename)\n",
    "    print(f\"File:{filename}, Notes:{pos}, Duration:{note_off_ms}sec\")"
   ]
  },
  {
   "cell_type": "markdown",
   "id": "organizational-underground",
   "metadata": {},
   "source": [
    "トレーニング用のMIDIファイルを作成する。  \n",
    "スネアドラムの左右スティックそれぞれでMIDIデータを作成する。"
   ]
  },
  {
   "cell_type": "code",
   "execution_count": 3,
   "id": "published-second",
   "metadata": {},
   "outputs": [
    {
     "name": "stdout",
     "output_type": "stream",
     "text": [
      "File:./data/snare_l.mid, Notes:576, Duration:1150.125sec\n",
      "File:./data/snare_r.mid, Notes:576, Duration:1150.125sec\n"
     ]
    }
   ],
   "source": [
    "# MIDIファイル作成\n",
    "SNARE_L = 38  # スネア（左スティック）\n",
    "SNARE_R = 62  # スネア（右スティック）\n",
    "velocities = np.arange(32, 128, 1)\n",
    "\n",
    "create_midi(\"./data/snare_l.mid\", velocities=velocities, pitch=SNARE_L)\n",
    "create_midi(\"./data/snare_r.mid\", velocities=velocities, pitch=SNARE_R)"
   ]
  }
 ],
 "metadata": {
  "kernelspec": {
   "display_name": "Python 3",
   "language": "python",
   "name": "python3"
  },
  "language_info": {
   "codemirror_mode": {
    "name": "ipython",
    "version": 3
   },
   "file_extension": ".py",
   "mimetype": "text/x-python",
   "name": "python",
   "nbconvert_exporter": "python",
   "pygments_lexer": "ipython3",
   "version": "3.6.9"
  }
 },
 "nbformat": 4,
 "nbformat_minor": 5
}
