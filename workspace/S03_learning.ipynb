{
 "cells": [
  {
   "cell_type": "markdown",
   "metadata": {},
   "source": [
    "# 音の違いを学習"
   ]
  },
  {
   "cell_type": "code",
   "execution_count": 1,
   "metadata": {},
   "outputs": [],
   "source": [
    "import datetime\n",
    "import numpy as np\n",
    "import tensorflow as tf\n",
    "import tensorflow.keras.layers as L\n",
    "import matplotlib.pyplot as plt\n",
    "import tcn  # https://pypi.org/project/keras-tcn/\n",
    "\n",
    "%matplotlib inline"
   ]
  },
  {
   "cell_type": "code",
   "execution_count": 2,
   "metadata": {},
   "outputs": [
    {
     "name": "stdout",
     "output_type": "stream",
     "text": [
      "importing Jupyter notebook from functions.ipynb\n"
     ]
    }
   ],
   "source": [
    "import import_ipynb\n",
    "import functions as myfunc\n",
    "\n",
    "myfunc.setup_seed(123)"
   ]
  },
  {
   "cell_type": "markdown",
   "metadata": {},
   "source": [
    "## TFRecordファイルからデータ読み込み\n"
   ]
  },
  {
   "cell_type": "code",
   "execution_count": 3,
   "metadata": {},
   "outputs": [],
   "source": [
    "CLIP_SAMPLES = 24000  # 各クリップのサンプル数\n",
    "\n",
    "\n",
    "def decode_example(example):\n",
    "    features = tf.io.parse_example(\n",
    "        example,\n",
    "        features={\n",
    "            \"audio\": tf.io.FixedLenFeature([CLIP_SAMPLES], dtype=tf.float32),\n",
    "            \"label\": tf.io.FixedLenFeature([], dtype=tf.int64),\n",
    "        },\n",
    "    )\n",
    "    audio = tf.expand_dims(features[\"audio\"], -1)  # 削っていたサイズ1の次元を追加（Numpyではなくtf操作）\n",
    "    label = features[\"label\"]\n",
    "    return audio, label\n",
    "\n",
    "\n",
    "def read_clips(filename: str, batch_size=128):\n",
    "    return (\n",
    "        tf.data.TFRecordDataset([filename])\n",
    "        .batch(batch_size)\n",
    "        .map(decode_example)\n",
    "        .unbatch()\n",
    "    )"
   ]
  },
  {
   "cell_type": "code",
   "execution_count": 4,
   "metadata": {},
   "outputs": [
    {
     "name": "stdout",
     "output_type": "stream",
     "text": [
      "ds: 1152 clips\n"
     ]
    }
   ],
   "source": [
    "# Dataset形式でTFRecordファイルを読み込む\n",
    "ds_l = read_clips(\"./data/snare_l.tfrecord\")\n",
    "ds_r = read_clips(\"./data/snare_r.tfrecord\")\n",
    "\n",
    "# 結合\n",
    "ds = ds_l.concatenate(ds_r)\n",
    "print(f\"ds: {myfunc.cardinality(ds)} clips\")"
   ]
  },
  {
   "cell_type": "markdown",
   "metadata": {},
   "source": [
    "## データを学習用/検証用に分割する"
   ]
  },
  {
   "cell_type": "code",
   "execution_count": 5,
   "metadata": {},
   "outputs": [],
   "source": [
    "def split_data(ds: tf.data.Dataset, ratio=0.8, batch_size=32):\n",
    "    ds_size = myfunc.cardinality(ds)\n",
    "    split_pos = int(ds_size * ratio)\n",
    "\n",
    "    # シャッフルしてデータを分割\n",
    "    # batch > map > cache > (map) > prefetch の順番を推奨\n",
    "    # reshuffleを無効化してエポックごとにtake/skipのデータが混ざらないようにする\n",
    "    # shuffle後にcacheを入れるとシャッフルされなくなるので注意\n",
    "    ds = ds.shuffle(ds_size, reshuffle_each_iteration=False)\n",
    "    ds_x = (\n",
    "        ds.take(split_pos)\n",
    "        .cache()\n",
    "        .shuffle(split_pos, reshuffle_each_iteration=True)\n",
    "        .batch(batch_size)\n",
    "        .prefetch(tf.data.AUTOTUNE)\n",
    "    )\n",
    "    ds_y = ds.skip(split_pos).batch(batch_size).cache().prefetch(tf.data.AUTOTUNE)\n",
    "\n",
    "    # 情報表示\n",
    "    cx, cy = myfunc.cardinality(ds_x), myfunc.cardinality(ds_y)\n",
    "    print(f\"train/test batches:({cx},{cy}), batch_size:{batch_size}, ratio:{ratio}\")\n",
    "    return (ds_x, ds_y)"
   ]
  },
  {
   "cell_type": "code",
   "execution_count": 6,
   "metadata": {},
   "outputs": [
    {
     "name": "stdout",
     "output_type": "stream",
     "text": [
      "train/test batches:(26,11), batch_size:32, ratio:0.7\n"
     ]
    }
   ],
   "source": [
    "# 学習時にGPUメモリ不足になる場合はバッチサイズを減らす\n",
    "ds_train, ds_test = split_data(ds, ratio=0.70, batch_size=32)"
   ]
  },
  {
   "cell_type": "markdown",
   "metadata": {},
   "source": [
    "## モデル作成"
   ]
  },
  {
   "cell_type": "code",
   "execution_count": 7,
   "metadata": {},
   "outputs": [
    {
     "name": "stdout",
     "output_type": "stream",
     "text": [
      "Model: \"sequential\"\n",
      "_________________________________________________________________\n",
      "Layer (type)                 Output Shape              Param #   \n",
      "=================================================================\n",
      "residual_block_0 (ResidualBl multiple                  21312     \n",
      "_________________________________________________________________\n",
      "residual_block_1 (ResidualBl multiple                  41344     \n",
      "_________________________________________________________________\n",
      "residual_block_2 (ResidualBl multiple                  41344     \n",
      "_________________________________________________________________\n",
      "residual_block_3 (ResidualBl multiple                  41344     \n",
      "_________________________________________________________________\n",
      "residual_block_4 (ResidualBl multiple                  41344     \n",
      "_________________________________________________________________\n",
      "residual_block_5 (ResidualBl multiple                  41344     \n",
      "_________________________________________________________________\n",
      "residual_block_6 (ResidualBl multiple                  41344     \n",
      "_________________________________________________________________\n",
      "residual_block_7 (ResidualBl multiple                  41344     \n",
      "_________________________________________________________________\n",
      "residual_block_8 (ResidualBl multiple                  41344     \n",
      "_________________________________________________________________\n",
      "residual_block_9 (ResidualBl multiple                  41344     \n",
      "_________________________________________________________________\n",
      "lambda (Lambda)              multiple                  0         \n",
      "_________________________________________________________________\n",
      "dense (Dense)                (None, 2)                 130       \n",
      "=================================================================\n",
      "Total params: 393,538\n",
      "Trainable params: 393,538\n",
      "Non-trainable params: 0\n",
      "_________________________________________________________________\n"
     ]
    }
   ],
   "source": [
    "# モデルの定義\n",
    "model = tf.keras.models.Sequential(\n",
    "    [\n",
    "        # https://pypi.org/project/keras-tcn/#arguments\n",
    "        tcn.TCN(\n",
    "            input_shape=(CLIP_SAMPLES, 1),\n",
    "            nb_filters=64,  # default:64\n",
    "            kernel_size=5,  # default:3\n",
    "            dilations=(1, 2, 4, 8, 16, 32, 64, 128, 256, 512),  # 多い方が安定（増やしすぎもダメ）\n",
    "            kernel_initializer=\"he_uniform\",\n",
    "            dropout_rate=0.03,  # TCNの場合はDropoutを大きくしない\n",
    "            use_layer_norm=True,  # batch_normを使うと精度が大きく落ちる\n",
    "        ),\n",
    "        L.Dense(2),  # softmaxは使わない\n",
    "    ]\n",
    ")\n",
    "tcn.tcn_full_summary(model, expand_residual_blocks=False)\n",
    "\n",
    "# モデルのコンパイル\n",
    "loss_fn = tf.keras.losses.SparseCategoricalCrossentropy(from_logits=True)\n",
    "model.compile(\n",
    "    optimizer=\"adam\",\n",
    "    loss=loss_fn,\n",
    "    metrics=[\"accuracy\"],\n",
    ")"
   ]
  },
  {
   "cell_type": "markdown",
   "metadata": {},
   "source": [
    "## 学習"
   ]
  },
  {
   "cell_type": "code",
   "execution_count": 8,
   "metadata": {},
   "outputs": [
    {
     "name": "stdout",
     "output_type": "stream",
     "text": [
      "Epoch 1/30\n",
      "26/26 [==============================] - 44s 1s/step - loss: 2.7701 - accuracy: 0.5677 - val_loss: 0.6388 - val_accuracy: 0.6503\n",
      "Epoch 2/30\n",
      "26/26 [==============================] - 32s 1s/step - loss: 0.4876 - accuracy: 0.7777 - val_loss: 0.3750 - val_accuracy: 0.8266\n",
      "Epoch 3/30\n",
      "26/26 [==============================] - 32s 1s/step - loss: 0.3745 - accuracy: 0.8281 - val_loss: 0.2971 - val_accuracy: 0.8642\n",
      "Epoch 4/30\n",
      "26/26 [==============================] - 32s 1s/step - loss: 0.3070 - accuracy: 0.8719 - val_loss: 0.1898 - val_accuracy: 0.9191\n",
      "Epoch 5/30\n",
      "26/26 [==============================] - 32s 1s/step - loss: 0.2370 - accuracy: 0.8890 - val_loss: 0.0940 - val_accuracy: 0.9884\n",
      "Epoch 6/30\n",
      "26/26 [==============================] - 32s 1s/step - loss: 0.1053 - accuracy: 0.9716 - val_loss: 0.0501 - val_accuracy: 0.9942\n",
      "Epoch 7/30\n",
      "26/26 [==============================] - 32s 1s/step - loss: 0.0652 - accuracy: 0.9693 - val_loss: 0.1967 - val_accuracy: 0.9017\n",
      "Epoch 8/30\n",
      "26/26 [==============================] - 32s 1s/step - loss: 0.1317 - accuracy: 0.9328 - val_loss: 0.0198 - val_accuracy: 0.9942\n",
      "Epoch 9/30\n",
      "26/26 [==============================] - 32s 1s/step - loss: 0.0448 - accuracy: 0.9797 - val_loss: 0.0238 - val_accuracy: 0.9942\n",
      "Epoch 10/30\n",
      "26/26 [==============================] - 32s 1s/step - loss: 0.0229 - accuracy: 0.9950 - val_loss: 0.0166 - val_accuracy: 0.9913\n",
      "Epoch 11/30\n",
      "26/26 [==============================] - 32s 1s/step - loss: 0.0145 - accuracy: 0.9917 - val_loss: 0.0102 - val_accuracy: 0.9942\n",
      "Epoch 12/30\n",
      "26/26 [==============================] - 32s 1s/step - loss: 0.0072 - accuracy: 0.9990 - val_loss: 0.0038 - val_accuracy: 0.9971\n",
      "Epoch 13/30\n",
      "26/26 [==============================] - 32s 1s/step - loss: 0.0029 - accuracy: 1.0000 - val_loss: 0.0012 - val_accuracy: 1.0000\n",
      "Epoch 14/30\n",
      "26/26 [==============================] - 32s 1s/step - loss: 0.0017 - accuracy: 1.0000 - val_loss: 0.0015 - val_accuracy: 1.0000\n",
      "Epoch 15/30\n",
      "26/26 [==============================] - 32s 1s/step - loss: 0.0028 - accuracy: 0.9991 - val_loss: 0.0557 - val_accuracy: 0.9827\n",
      "Epoch 16/30\n",
      "26/26 [==============================] - 32s 1s/step - loss: 0.0186 - accuracy: 0.9870 - val_loss: 0.0032 - val_accuracy: 1.0000\n",
      "\n",
      "Epoch 00016: ReduceLROnPlateau reducing learning rate to 0.00020000000949949026.\n",
      "Restoring model weights from the end of the best epoch.\n",
      "Epoch 00016: early stopping\n"
     ]
    }
   ],
   "source": [
    "# 学習が進まなくなった場合に学習率を変更する\n",
    "reduce_lr = tf.keras.callbacks.ReduceLROnPlateau(\n",
    "    monitor=\"val_loss\", factor=0.2, patience=3, min_lr=0.0001, verbose=1\n",
    ")\n",
    "# 改善が見られなければ学習を停止し、最良のウェイト値に戻す\n",
    "early_stopping = tf.keras.callbacks.EarlyStopping(\n",
    "    monitor=\"val_loss\", patience=3, restore_best_weights=True, verbose=1\n",
    ")\n",
    "# TensorBoard用\n",
    "log_dir = f\"./logs/fit/{datetime.datetime.now().strftime('%Y%m%d-%H%M%S')}\"\n",
    "tb_callback = tf.keras.callbacks.TensorBoard(log_dir=log_dir, histogram_freq=1)\n",
    "\n",
    "# 学習\n",
    "history = model.fit(\n",
    "    ds_train,\n",
    "    epochs=30,\n",
    "    validation_data=ds_test,\n",
    "    callbacks=[reduce_lr, early_stopping, tb_callback],\n",
    ")"
   ]
  },
  {
   "cell_type": "markdown",
   "metadata": {},
   "source": [
    "### 学習履歴\n",
    "\n",
    "val_lossの値は13エポックで最良となり、その後は3回連続で13エポック目よりも値が悪化している。  \n",
    "そのため、最終的なモデルのウェイト値は、最良の13エポック目の値になる。（EarlyStoppingによるもの）"
   ]
  },
  {
   "cell_type": "markdown",
   "metadata": {},
   "source": [
    "TensorBoard用の出力結果は、TensorBoard.dev (Preview)で共有可能。  \n",
    "https://tensorboard.dev/experiment/dIKqxJYpQQSvAaPkIA5ClA/  \n",
    "```tensorboard dev upload --logdir ./logs --name \"tcn-snare\" --description \"Training results of a model that classifies snare drum hit locations.\"```\n"
   ]
  },
  {
   "cell_type": "code",
   "execution_count": 9,
   "metadata": {},
   "outputs": [
    {
     "data": {
      "image/png": "[encoded data removed]",
      "text/plain": [
       "<Figure size 936x360 with 2 Axes>"
      ]
     },
     "metadata": {
      "needs_background": "light"
     },
     "output_type": "display_data"
    }
   ],
   "source": [
    "myfunc.show_history_graph(history)"
   ]
  },
  {
   "cell_type": "markdown",
   "metadata": {},
   "source": [
    "## モデルの保存"
   ]
  },
  {
   "cell_type": "code",
   "execution_count": 10,
   "metadata": {},
   "outputs": [
    {
     "name": "stderr",
     "output_type": "stream",
     "text": [
      "WARNING:absl:Found untraced functions such as residual_block_0_layer_call_fn, residual_block_0_layer_call_and_return_conditional_losses, residual_block_1_layer_call_fn, residual_block_1_layer_call_and_return_conditional_losses, residual_block_2_layer_call_fn while saving (showing 5 of 505). These functions will not be directly callable after loading.\n",
      "WARNING:absl:Found untraced functions such as residual_block_0_layer_call_fn, residual_block_0_layer_call_and_return_conditional_losses, residual_block_1_layer_call_fn, residual_block_1_layer_call_and_return_conditional_losses, residual_block_2_layer_call_fn while saving (showing 5 of 505). These functions will not be directly callable after loading.\n"
     ]
    },
    {
     "name": "stdout",
     "output_type": "stream",
     "text": [
      "INFO:tensorflow:Assets written to: ./model/tcn_snare/assets\n"
     ]
    },
    {
     "name": "stderr",
     "output_type": "stream",
     "text": [
      "INFO:tensorflow:Assets written to: ./model/tcn_snare/assets\n"
     ]
    }
   ],
   "source": [
    "# 保存\n",
    "model.save(\"./model/tcn_snare\")  # SavedModel形式"
   ]
  }
 ],
 "metadata": {
  "kernelspec": {
   "display_name": "Python 3",
   "language": "python",
   "name": "python3"
  },
  "language_info": {
   "codemirror_mode": {
    "name": "ipython",
    "version": 3
   },
   "file_extension": ".py",
   "mimetype": "text/x-python",
   "name": "python",
   "nbconvert_exporter": "python",
   "pygments_lexer": "ipython3",
   "version": "3.6.9"
  }
 },
 "nbformat": 4,
 "nbformat_minor": 4
}
