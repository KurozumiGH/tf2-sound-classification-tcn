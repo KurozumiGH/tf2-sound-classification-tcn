{
 "cells": [
  {
   "cell_type": "markdown",
   "id": "efficient-renaissance",
   "metadata": {},
   "source": [
    "# 関数定義\n",
    "\n",
    "各ノートブック（*.ipynb）から利用する関数定義。  \n",
    "[import-ipynb](https://pypi.org/project/import-ipynb/) を利用してipynbファイルをimportできるようにしている。\n"
   ]
  },
  {
   "cell_type": "code",
   "execution_count": 1,
   "id": "happy-annex",
   "metadata": {},
   "outputs": [],
   "source": [
    "import os\n",
    "import random\n",
    "import numpy as np\n",
    "import tensorflow as tf\n",
    "import tensorflow_io as tfio\n",
    "import matplotlib.pyplot as plt\n",
    "import librosa.display\n",
    "import IPython.display as ipd\n",
    "\n",
    "%matplotlib inline"
   ]
  },
  {
   "cell_type": "markdown",
   "id": "personal-scottish",
   "metadata": {},
   "source": [
    "## 設定"
   ]
  },
  {
   "cell_type": "code",
   "execution_count": 2,
   "id": "orange-necklace",
   "metadata": {},
   "outputs": [],
   "source": [
    "def setup_seed(seed):\n",
    "    \"\"\"\n",
    "    各種乱数系のseed値を設定する\n",
    "    --------------------------------\n",
    "    seed: シード値\n",
    "    \"\"\"\n",
    "    os.environ[\"PYTHONHASHSEED\"] = str(seed)\n",
    "    random.seed(seed)  # Python\n",
    "    np.random.seed(seed)  # Numpy\n",
    "    tf.random.set_seed(seed)  # TensorFlow"
   ]
  },
  {
   "cell_type": "markdown",
   "id": "proper-dylan",
   "metadata": {},
   "source": [
    "## 音声ファイル操作"
   ]
  },
  {
   "cell_type": "code",
   "execution_count": 3,
   "id": "constitutional-arizona",
   "metadata": {},
   "outputs": [],
   "source": [
    "def normalize_fn(clip):\n",
    "    rng = max(np.abs(np.min(clip)), np.max(clip))  # プラスマイナス1の範囲に広げる\n",
    "    return clip / rng\n",
    "\n",
    "\n",
    "def load_audio_clips(\n",
    "    filename: str,\n",
    "    interval: float = 2.0,\n",
    "    duration: float = 0.5,\n",
    "    normalize: bool = True,\n",
    "    squeeze: bool = True,\n",
    ") -> [np.ndarray]:\n",
    "    \"\"\"\n",
    "    音声ファイルを読み込み、複数クリップに分割して返す\n",
    "    --------------------------------\n",
    "    filename: ファイル名\n",
    "    interval: 音を分割するインターバル時間（秒）\n",
    "    duration: 抽出する音の長さ（秒）\n",
    "    normalize: -1..1の範囲にノーマライズするかどうか\n",
    "    squeeze: サイズ1の次元を削除するかどうか\n",
    "    --------------------------------\n",
    "    return: 分割した複数の音声クリップ\n",
    "    \"\"\"\n",
    "\n",
    "    # 音声ファイルの読み込み\n",
    "    audio = tfio.audio.AudioIOTensor(filename)\n",
    "    rate = audio.rate.numpy()\n",
    "    data = audio.to_tensor().numpy().astype(np.float32)  # shape=(samples,1)\n",
    "    if squeeze:\n",
    "        data = data.squeeze()\n",
    "\n",
    "    # 指定間隔ごとにデータを分割（指定サイズに満たない余りは切り捨てる）\n",
    "    interval_step = int(rate * interval)\n",
    "    duration_step = int(rate * duration)\n",
    "    limit = data.size - duration_step + 1\n",
    "    clips = []\n",
    "    for split_pos in np.arange(0, limit, interval_step, dtype=np.int):\n",
    "        clips.append(data[split_pos : split_pos + duration_step].astype(np.float32))\n",
    "\n",
    "    # 各クリップ単位にノーマライズ (-1..1)\n",
    "    if normalize:\n",
    "        # rng = np.abs(audio.dtype.min)  # 24bitはint32になる\n",
    "        clips = list(map(normalize_fn, clips))\n",
    "\n",
    "    # 情報表示\n",
    "    print(\n",
    "        \"{} {}kHz, clips:{}, duration:{}, normalize:{}\".format(\n",
    "            filename, rate / 1000, len(clips), duration_step, normalize\n",
    "        )\n",
    "    )\n",
    "    return clips"
   ]
  },
  {
   "cell_type": "code",
   "execution_count": 4,
   "id": "excessive-submission",
   "metadata": {},
   "outputs": [],
   "source": [
    "def show_audio_clip(clips: [np.ndarray], pos: int, rate: int = 48000):\n",
    "    \"\"\"\n",
    "    音声クリップの波形グラフと再生ボタンを表示する。\n",
    "    --------------------------------\n",
    "    clips: load_audio_clipsで読み込んだ音声クリップのリスト\n",
    "    pos: 対象クリップの要素番号\n",
    "    rate: サンプリングレート\n",
    "    \"\"\"\n",
    "\n",
    "    # 波形グラフ\n",
    "    data = clips[pos]\n",
    "    plt.figure(figsize=(12, 3))\n",
    "    librosa.display.waveplot(data)\n",
    "    plt.show()\n",
    "\n",
    "    # 再生ボタン\n",
    "    ipd.display(ipd.Audio(data, rate=rate))"
   ]
  },
  {
   "cell_type": "markdown",
   "id": "similar-choice",
   "metadata": {},
   "source": [
    "## ファイル操作"
   ]
  },
  {
   "cell_type": "code",
   "execution_count": 5,
   "id": "express-explanation",
   "metadata": {},
   "outputs": [],
   "source": [
    "def readlines_as_list(filename: str, enc=\"utf_8_sig\"):\n",
    "    \"\"\"\n",
    "    ファイルを読み込んで、各行をリストで返す。\n",
    "    --------------------------------\n",
    "    filename: ファイル名\n",
    "    enc: エンコード（default=UTF-8 BOM付き）\n",
    "    --------------------------------\n",
    "    return: 読み取った各行（list形式）\n",
    "    \"\"\"\n",
    "    with open(filename, mode=\"r\", encoding=enc) as f:\n",
    "        return [s.strip() for s in f.readlines()]\n",
    "\n",
    "\n",
    "def writelines(filename: str, lines: [str], enc=\"utf_8_sig\"):\n",
    "    \"\"\"\n",
    "    リスト文字列をファイルに出力する。\n",
    "    --------------------------------\n",
    "    filename: ファイル名\n",
    "    lines: リスト文字列\n",
    "    enc: エンコード（default=UTF-8 BOM付き）\n",
    "    \"\"\"\n",
    "    with open(filename, mode=\"w\", encoding=enc) as f:\n",
    "        f.writelines(\"\\n\".join(lines))"
   ]
  },
  {
   "cell_type": "markdown",
   "id": "golden-blanket",
   "metadata": {},
   "source": [
    "## リスト処理など"
   ]
  },
  {
   "cell_type": "code",
   "execution_count": 6,
   "id": "synthetic-hazard",
   "metadata": {},
   "outputs": [],
   "source": [
    "def string_to_list(s: str, dtype: np.dtype = np.int64) -> np.ndarray:\n",
    "    \"\"\"\n",
    "    文字列を1文字ずつ分解してdtype型のリストにキャストして返す。\n",
    "    数字文字列を数値のリストに変換する用途で利用。\n",
    "    --------------------------------\n",
    "    s: 文字列\n",
    "    dtype: 変換する型（default=np.int64）\n",
    "    \"\"\"\n",
    "    return np.array(list(s)).astype(dtype)\n",
    "\n",
    "\n",
    "def list_map(func, values):\n",
    "    \"\"\"\n",
    "    values全てにfuncを適用して、結果をndarray型で返す。\n",
    "    --------------------------------\n",
    "    func: 適用する処理\n",
    "    values: リスト\n",
    "    \"\"\"\n",
    "    return np.array(list(map(func, values)))"
   ]
  },
  {
   "cell_type": "markdown",
   "id": "hazardous-belgium",
   "metadata": {},
   "source": [
    "## TensorFlow関連"
   ]
  },
  {
   "cell_type": "code",
   "execution_count": 7,
   "id": "alive-recall",
   "metadata": {},
   "outputs": [],
   "source": [
    "def cardinality(ds: tf.data.Dataset):\n",
    "    \"\"\"\n",
    "    tf.dada.Dataset.cardinality と同様の機能。\n",
    "    オリジナル版は-2を返すことがあるため、更にラップしたもの。\n",
    "    \"\"\"\n",
    "    cnt = ds.cardinality().numpy()\n",
    "    if cnt == -2:\n",
    "        cnt = len(list(ds.as_numpy_iterator()))\n",
    "    return cnt"
   ]
  },
  {
   "cell_type": "code",
   "execution_count": 8,
   "id": "changing-execution",
   "metadata": {},
   "outputs": [],
   "source": [
    "def show_history_graph(\n",
    "    history,\n",
    "    acc_key=\"accuracy\",\n",
    "    val_acc_key=\"val_accuracy\",\n",
    "    loss_key=\"loss\",\n",
    "    val_loss_key=\"val_loss\",\n",
    "):\n",
    "    \"\"\"\n",
    "    Historyのグラフを描画。\n",
    "    \"\"\"\n",
    "    fig = plt.figure(figsize=(13, 5), constrained_layout=True)\n",
    "    ax = fig.subplots(1, 2)\n",
    "    t_col = \"#03F\"\n",
    "    v_col = \"#F33\"\n",
    "\n",
    "    ax[0].set_title(\"Accuracy\", fontsize=16)\n",
    "    ax[0].plot(history.history[acc_key], color=t_col, lw=2, label=acc_key)\n",
    "    ax[0].plot(history.history[val_acc_key], color=v_col, lw=2, label=val_acc_key)\n",
    "    ax[1].set_title(\"Loss\", fontsize=16)\n",
    "    ax[1].plot(history.history[loss_key], color=t_col, lw=2, label=loss_key)\n",
    "    ax[1].plot(history.history[val_loss_key], color=v_col, lw=2, label=val_loss_key)\n",
    "\n",
    "    x_pos = np.arange(0, len(history.epoch), 1)\n",
    "    for x in ax:\n",
    "        x.set_xticks(x_pos)\n",
    "        x.set_xticklabels(x_pos + 1)\n",
    "        x.set_xlabel(\"Epoch\")\n",
    "        x.grid(True)\n",
    "        x.legend(fontsize=12)\n",
    "\n",
    "    plt.show()"
   ]
  }
 ],
 "metadata": {
  "kernelspec": {
   "display_name": "Python 3",
   "language": "python",
   "name": "python3"
  },
  "language_info": {
   "codemirror_mode": {
    "name": "ipython",
    "version": 3
   },
   "file_extension": ".py",
   "mimetype": "text/x-python",
   "name": "python",
   "nbconvert_exporter": "python",
   "pygments_lexer": "ipython3",
   "version": "3.6.9"
  }
 },
 "nbformat": 4,
 "nbformat_minor": 5
}
