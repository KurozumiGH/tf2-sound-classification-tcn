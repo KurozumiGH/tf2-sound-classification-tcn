{
 "cells": [
  {
   "cell_type": "markdown",
   "id": "missing-spokesman",
   "metadata": {},
   "source": [
    "# ランダムに作成した100個の音を聞き分けられるかチャレンジ"
   ]
  },
  {
   "cell_type": "code",
   "execution_count": 1,
   "id": "cosmetic-group",
   "metadata": {},
   "outputs": [],
   "source": [
    "import numpy as np\n",
    "import tensorflow as tf\n",
    "import matplotlib.pyplot as plt\n",
    "import tcn\n",
    "\n",
    "%matplotlib inline"
   ]
  },
  {
   "cell_type": "code",
   "execution_count": 2,
   "id": "medical-spare",
   "metadata": {},
   "outputs": [
    {
     "name": "stdout",
     "output_type": "stream",
     "text": [
      "importing Jupyter notebook from functions.ipynb\n"
     ]
    }
   ],
   "source": [
    "import import_ipynb\n",
    "import functions as myfunc"
   ]
  },
  {
   "cell_type": "markdown",
   "id": "opened-helicopter",
   "metadata": {},
   "source": [
    "## 学習済みモデルのロード"
   ]
  },
  {
   "cell_type": "code",
   "execution_count": 3,
   "id": "endangered-basement",
   "metadata": {},
   "outputs": [
    {
     "name": "stdout",
     "output_type": "stream",
     "text": [
      "Model: \"sequential\"\n",
      "_________________________________________________________________\n",
      "Layer (type)                 Output Shape              Param #   \n",
      "=================================================================\n",
      "tcn (TCN)                    (None, 64)                393408    \n",
      "_________________________________________________________________\n",
      "dense (Dense)                (None, 2)                 130       \n",
      "=================================================================\n",
      "Total params: 393,538\n",
      "Trainable params: 393,538\n",
      "Non-trainable params: 0\n",
      "_________________________________________________________________\n"
     ]
    }
   ],
   "source": [
    "model = tf.keras.models.load_model(\"./model/tcn_snare\")  # SavedModel形式\n",
    "model.summary()"
   ]
  },
  {
   "cell_type": "markdown",
   "id": "dramatic-profile",
   "metadata": {},
   "source": [
    "## チャレンジ用音声ファイルの読み込み"
   ]
  },
  {
   "cell_type": "code",
   "execution_count": 4,
   "id": "incoming-turning",
   "metadata": {},
   "outputs": [],
   "source": [
    "def load_audio_as_ds(filename, batch_size=64):\n",
    "    clips = myfunc.load_audio_clips(filename, squeeze=False)\n",
    "    ds = tf.data.Dataset.from_tensor_slices(clips)\n",
    "    ds = ds.batch(batch_size)\n",
    "    ds = ds.map(lambda x: (x, None))  # 正解ラベルは未設定\n",
    "    ds = ds.prefetch(tf.data.AUTOTUNE)\n",
    "    return ds"
   ]
  },
  {
   "cell_type": "code",
   "execution_count": 5,
   "id": "sharp-iceland",
   "metadata": {},
   "outputs": [
    {
     "name": "stdout",
     "output_type": "stream",
     "text": [
      "./data/challenge.flac 48.0kHz, clips:100, duration:24000, normalize:True\n"
     ]
    }
   ],
   "source": [
    "ds = load_audio_as_ds(\"./data/challenge.flac\")"
   ]
  },
  {
   "cell_type": "markdown",
   "id": "frozen-singapore",
   "metadata": {},
   "source": [
    "## 推論"
   ]
  },
  {
   "cell_type": "code",
   "execution_count": 6,
   "id": "furnished-value",
   "metadata": {},
   "outputs": [],
   "source": [
    "predicts = model.predict(ds)"
   ]
  },
  {
   "cell_type": "code",
   "execution_count": 7,
   "id": "surprised-bibliography",
   "metadata": {},
   "outputs": [
    {
     "data": {
      "image/png": "[encoded data removed]",
      "text/plain": [
       "<Figure size 1058.4x144 with 1 Axes>"
      ]
     },
     "metadata": {
      "needs_background": "light"
     },
     "output_type": "display_data"
    }
   ],
   "source": [
    "def show_result(predicts, true_labels: np.ndarray):\n",
    "    predicts = tf.nn.softmax(predicts)  # ロジット値を確率に変換（0..1）\n",
    "    pred_labels = myfunc.list_map(lambda x: np.argmax(x), predicts)  # 予測ラベル\n",
    "    pred_percents = myfunc.list_map(lambda x: np.max(x), predicts)  # 予想ラベルの確率\n",
    "    is_corrects = true_labels == pred_labels  # 正解かどうか\n",
    "\n",
    "    # グラフ表示\n",
    "    colors = myfunc.list_map(lambda x: \"#6CBF70\" if x else \"#E65A29\", is_corrects)\n",
    "    title = f\"Accuracy: {np.count_nonzero(is_corrects) / np.size(is_corrects)}\"\n",
    "\n",
    "    fig = plt.figure(figsize=(14.7, 2), constrained_layout=True)\n",
    "    ax = fig.subplots(1, 1)\n",
    "    ax.set_title(title, loc=\"left\", fontsize=14, pad=24)\n",
    "    ax.bar(height=pred_percents, x=range(len(pred_labels)), color=colors)\n",
    "    ax.set_xlim(-2, len(pred_labels) + 1)  # グラフのスペース調整\n",
    "    ax.set_xticks(np.arange(0, 101, 5))\n",
    "    ax.set_ylim(0.0, 1.0)\n",
    "    ax.set_yticks([0.0, 0.5, 1.0])\n",
    "\n",
    "    # 正解ラベルを表示（右スティック側だけ、上部にRを表示。それ以外は左スティック）\n",
    "    true_labels_dec = myfunc.list_map(lambda x: \"R\" if x else \"\", true_labels)\n",
    "    for x, l in zip(range(100), true_labels_dec):\n",
    "        ax.text(x, 1, l, ha=\"center\", va=\"bottom\", fontsize=12, color=\"#36C\")\n",
    "\n",
    "    plt.show()\n",
    "\n",
    "\n",
    "# 正解ラベルを読み込み\n",
    "true_labels_str = myfunc.readlines_as_list(\"./data/challenge_true_labels.txt\")\n",
    "true_labels = myfunc.string_to_list(true_labels_str[0])\n",
    "\n",
    "\n",
    "# 結果表示\n",
    "show_result(predicts, true_labels)"
   ]
  },
  {
   "cell_type": "markdown",
   "id": "raising-private",
   "metadata": {},
   "source": [
    "## 人間（私）の予測結果"
   ]
  },
  {
   "cell_type": "code",
   "execution_count": 8,
   "id": "dental-minority",
   "metadata": {},
   "outputs": [
    {
     "data": {
      "image/png": "[encoded data removed]",
      "text/plain": [
       "<Figure size 1022.4x144 with 5 Axes>"
      ]
     },
     "metadata": {
      "needs_background": "light"
     },
     "output_type": "display_data"
    }
   ],
   "source": [
    "# 人間の予測結果\n",
    "my_preds = myfunc.readlines_as_list(\"./data/challenge_my_prediction.txt\")\n",
    "\n",
    "# 正解ラベルとの突き合わせ\n",
    "results = myfunc.list_map(lambda x: true_labels == myfunc.string_to_list(x), my_preds)\n",
    "title = f\"Total accuracy: {np.count_nonzero(results) / np.size(results)}\"  # 正解数/全体数\n",
    "\n",
    "# グラフで結果を表示\n",
    "fig = plt.figure(figsize=(14.2, 2), constrained_layout=True)\n",
    "ax = fig.subplots(len(results), 1)\n",
    "for i, result in enumerate(results):\n",
    "    colors = myfunc.list_map(lambda x: \"#6CBF70\" if x else \"#E65A29\", result)\n",
    "    ax[i].set_frame_on(False)\n",
    "    ax[i].set_xlim(-1, len(result))  # グラフのスペース調整\n",
    "    ax[i].bar(height=1, x=range(len(result)), color=colors)\n",
    "    ax[i].set_yticks([])\n",
    "    ax[i].set_xticks([])\n",
    "\n",
    "# 正解ラベルを表示（右スティック側だけ、上部にRを表示。それ以外は左スティック）\n",
    "true_labels_dec = myfunc.list_map(lambda x: \"R\" if x else \"\", true_labels)\n",
    "for x, l in zip(range(100), true_labels_dec):\n",
    "    ax[0].text(x, 1.1, l, ha=\"center\", va=\"bottom\", fontsize=12, color=\"#36C\")\n",
    "\n",
    "ax[0].set_title(title, loc=\"left\", fontsize=14, pad=24)\n",
    "ax[-1].set_xticks(np.arange(0, 101, 5))  # 最後にx軸のラベルを表示\n",
    "plt.show()"
   ]
  }
 ],
 "metadata": {
  "kernelspec": {
   "display_name": "Python 3",
   "language": "python",
   "name": "python3"
  },
  "language_info": {
   "codemirror_mode": {
    "name": "ipython",
    "version": 3
   },
   "file_extension": ".py",
   "mimetype": "text/x-python",
   "name": "python",
   "nbconvert_exporter": "python",
   "pygments_lexer": "ipython3",
   "version": "3.6.9"
  }
 },
 "nbformat": 4,
 "nbformat_minor": 5
}
